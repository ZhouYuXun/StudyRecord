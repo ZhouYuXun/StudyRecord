{
 "cells": [
  {
   "cell_type": "code",
   "execution_count": 12,
   "metadata": {
    "code_folding": [
     0
    ]
   },
   "outputs": [],
   "source": [
    "# 匯入函數\n",
    "\n",
    "import numpy as np\n",
    "import requests\n",
    "import progressbar as bar\n",
    "import os\n",
    "import unlzw3\n",
    "from pathlib import Path"
   ]
  },
  {
   "cell_type": "code",
   "execution_count": 8,
   "metadata": {
    "code_folding": [
     0
    ],
    "scrolled": true
   },
   "outputs": [],
   "source": [
    "# 重新下載最新TEC檔案\n",
    "\n",
    "def reptile(SY, EY, SD, ED) :\n",
    "    \n",
    "    zero = str(0) + str(0) # 路徑命名用\n",
    "    header = {'User-Agent':'Mozilla/5.0 (Windows NT 10.0; Win64; x64) AppleWebKit/537.36 (KHTML, like Gecko) Chrome/92.0.4515.159 Safari/537.36 Edg/92.0.902.84', }\n",
    "    username = 'drunkmo'\n",
    "    password = 'As135792468'\n",
    "    cookies = {'_gid':'GA1.2.420082954.1630344347','urs_guid_ops':'f2bbeb3b-3937-4f65-8624-e65848d5c6dd','_ga':'GA1.3.948141401.1630344347','_gid':'GA1.3.420082954.1630344347','_ga_EG7FB6W5DL':'GS1.1.1630344365803.jxilpqlr.1.0.1630344365.0','_gat_UA-112998278-3':'1','_gat_GSA_ENOR0':'1', 'ProxyAuth':'s2sVA5BATZ6RxZUX7MIQZlMjVMoxCIehuUn0GlE6Mjwgziyrdjv0CDgKAZc4RlqVVa2vPP845XvzWbspdDyj6cDObvaOcV2ZuH1fT3woFbnKycCZGbL5UOynwIks+OiY','_ga':'GA1.1.948141401.1630344347'}\n",
    "    years = np.arange(SY, EY, 1) # 建立年份列表\n",
    "    days = np.arange(SD, ED, 1) # 建立月份列表\n",
    "    \n",
    "    for year in bar.progressbar(years) : # 下載年份\n",
    "    \n",
    "        addressY = 'D:\\Backup\\Dataset\\Electronic\\IGS/' + str(year) # 資料夾創建路徑 ( 改這邊 )\n",
    "        os.makedirs(addressY, exist_ok = True) # 選擇創建路徑如已存在則略\n",
    "              \n",
    "        for day in  bar.progressbar(days) : # 下載日期\n",
    "            \n",
    "            addressD = addressY + str('/') + str(day) # 資料夾創建路徑\n",
    "            os.makedirs(addressD, exist_ok = True) #選擇創建路徑如已存在則略過\n",
    "            \n",
    "            if year == 1999 :\n",
    "                if day < 10 :\n",
    "                    \n",
    "                    url = 'https://cddis.nasa.gov/archive/gnss/products/ionex/' + str(year) + '/' + str(zero) + str(day) + '/igsg' + str(zero) + str(day) + '0.' + str(year-1900) + 'i.Z' # 資料下載路徑 ( 改這裡 )\n",
    "                    r = requests.get(url, headers = header, auth=(username, password), allow_redirects = True, cookies = cookies)\n",
    "                    path = 'D:\\Backup\\Dataset\\Electronic\\IGS/' + str(year) + '/' + str(day) + '/IGS' + str(year) + '-' + str(day) + '.Z' # 資料創建路徑\n",
    "                    open(path, 'wb').write(r.content)\n",
    "                    \n",
    "                elif day < 100 :\n",
    "                    \n",
    "                    url = 'https://cddis.nasa.gov/archive/gnss/products/ionex/' + str(year) + '/' + str(0) + str(day) + '/igsg' + str(0) + str(day) + '0.' + str(year-1900) + 'i.Z'\n",
    "                    r = requests.get(url, headers = header, auth=(username, password), allow_redirects = True, cookies = cookies)\n",
    "                    path = 'D:\\Backup\\Dataset\\Electronic\\IGS/' + str(year) + '/' + str(day) + '/IGS' + str(year) + '-' + str(day) + '.Z'\n",
    "                    open(path, 'wb').write(r.content)\n",
    "                    \n",
    "                else :\n",
    "                    \n",
    "                    url = 'https://cddis.nasa.gov/archive/gnss/products/ionex/' + str(year) + '/' + str(day) + '/igsg' + str(day) + '0.' + str(year-1900) + 'i.Z'\n",
    "                    r = requests.get(url, headers = header, auth=(username, password), allow_redirects = True, cookies = cookies)\n",
    "                    path = 'D:\\Backup\\Dataset\\Electronic\\IGS/' + str(year) + '/' + str(day) + '/IGS' + str(year) + '-' + str(day) + '.Z'\n",
    "                    open(path, 'wb').write(r.content)\n",
    "            \n",
    "            elif year <= 2009 :\n",
    "                \n",
    "                if day < 10 :\n",
    "            \n",
    "                    url = 'https://cddis.nasa.gov/archive/gnss/products/ionex/' + str(year) + '/' + str(zero) + str(day) + '/igsg' + str(zero) + str(day) + '0.' + str(0) + str(year-2000) + 'i.Z'\n",
    "                    r = requests.get(url, headers = header, auth=(username, password), allow_redirects = True, cookies = cookies)\n",
    "                    path = 'D:\\Backup\\Dataset\\Electronic\\IGS/' + str(year) + '/' + str(day) + '/IGS' + str(year) + '-' + str(day) + '.Z'\n",
    "                    open(path, 'wb').write(r.content) \n",
    "                \n",
    "                elif day < 100 :\n",
    "                    \n",
    "                    url = 'https://cddis.nasa.gov/archive/gnss/products/ionex/' + str(year) + '/' + str(0) + str(day) + '/igsg' + str(0) + str(day) + '0.' + str(0) + str(year-2000) + 'i.Z'\n",
    "                    r = requests.get(url, headers = header, auth=(username, password), allow_redirects = True, cookies = cookies)\n",
    "                    path = 'D:\\Backup\\Dataset\\Electronic\\IGS/' + str(year) + '/' + str(day) + '/IGS' + str(year) + '-' + str(day) + '.Z'\n",
    "                    open(path, 'wb').write(r.content)\n",
    "                    \n",
    "                else :\n",
    "                    \n",
    "                    url = 'https://cddis.nasa.gov/archive/gnss/products/ionex/' + str(year) + '/' + str(day) + '/igsg' + str(day) + '0.' + str(0) + str(year-2000) + 'i.Z'\n",
    "                    r = requests.get(url, headers = header, auth=(username, password), allow_redirects = True, cookies = cookies)\n",
    "                    path = 'D:\\Backup\\Dataset\\Electronic\\IGS/' + str(year) + '/' + str(day) + '/IGS' + str(year) + '-' + str(day) + '.Z'\n",
    "                    open(path, 'wb').write(r.content)\n",
    "                    \n",
    "            else :\n",
    "                \n",
    "                if day < 10 :\n",
    "            \n",
    "                    url = 'https://cddis.nasa.gov/archive/gnss/products/ionex/' + str(year) + '/' + str(zero) + str(day) + '/igsg' + str(zero) + str(day) + '0.' + str(year-2000) + 'i.Z'\n",
    "                    r = requests.get(url, headers = header, auth=(username, password), allow_redirects = True, cookies = cookies)\n",
    "                    path = 'D:\\Backup\\Dataset\\Electronic\\IGS/' + str(year) + '/' + str(day) + '/IGS' + str(year) + '-' + str(day) + '.Z'\n",
    "                    open(path, 'wb').write(r.content) \n",
    "                \n",
    "                elif day < 100 :\n",
    "                    \n",
    "                    url = 'https://cddis.nasa.gov/archive/gnss/products/ionex/' + str(year) + '/' + str(0) + str(day) + '/igsg' + str(0) + str(day) + '0.' + str(year-2000) + 'i.Z'\n",
    "                    r = requests.get(url, headers = header, auth=(username, password), allow_redirects = True, cookies = cookies)\n",
    "                    path = 'D:\\Backup\\Dataset\\Electronic\\IGS/' + str(year) + '/' + str(day) + '/IGS' + str(year) + '-' + str(day) + '.Z'\n",
    "                    open(path, 'wb').write(r.content)\n",
    "                    \n",
    "                else :\n",
    "                    \n",
    "                    url = 'https://cddis.nasa.gov/archive/gnss/products/ionex/' + str(year) + '/' + str(day) + '/igsg' + str(day) + '0.' + str(year-2000) + 'i.Z'\n",
    "                    r = requests.get(url, headers = header, auth=(username, password), allow_redirects = True, cookies = cookies)\n",
    "                    path = 'D:\\Backup\\Dataset\\Electronic\\IGS/' + str(year) + '/' + str(day) + '/IGS' + str(year) + '-' + str(day) + '.Z'\n",
    "                    open(path, 'wb').write(r.content)"
   ]
  },
  {
   "cell_type": "code",
   "execution_count": null,
   "metadata": {},
   "outputs": [],
   "source": [
    "reptile(1999, 2022, 1, 367)"
   ]
  },
  {
   "cell_type": "code",
   "execution_count": 9,
   "metadata": {
    "code_folding": [
     0
    ]
   },
   "outputs": [],
   "source": [
    "# 大量解壓縮\n",
    "\n",
    "def reptile_unzip(SY, EY, SD, ED) :\n",
    "    \n",
    "    formulaTECpath = 'D:\\Backup\\Dataset\\Electronic\\IGS/year/days/IGSyear-days.Z'\n",
    "    \n",
    "    years = np.arange(SY, EY, 1)\n",
    "    days = np.arange(SD, ED, 1)\n",
    "\n",
    "    for year in bar.progressbar(years) :\n",
    "        for day in days :\n",
    "            \n",
    "            path = formulaTECpath.replace('year', str(int(year))).replace('days', str(int(day))) \n",
    "            txtpath = path.replace('Z', 'txt')\n",
    "            \n",
    "            if Path(path).stat().st_size>30000:\n",
    "                compressed_data = unlzw3.unlzw(Path(path))\n",
    "                with open(txtpath, 'wb') as txt:\n",
    "                    txt.write(compressed_data)"
   ]
  },
  {
   "cell_type": "code",
   "execution_count": 6,
   "metadata": {},
   "outputs": [
    {
     "name": "stderr",
     "output_type": "stream",
     "text": [
      "100% (23 of 23) |########################| Elapsed Time: 0:27:40 Time:  0:27:40\n"
     ]
    }
   ],
   "source": [
    "reptile_unzip(1999, 2022, 1, 367)"
   ]
  },
  {
   "cell_type": "code",
   "execution_count": 10,
   "metadata": {
    "code_folding": [
     0
    ]
   },
   "outputs": [],
   "source": [
    "# 整理文件檔案\n",
    "def tidy_txt(SY, EY, SD, ED):\n",
    "    \n",
    "    years = np.arange(SY, EY, 1)\n",
    "    days = np.arange(SD, ED, 1)\n",
    "\n",
    "    for year in bar.progressbar(years) :\n",
    "        for day in days :\n",
    "            \n",
    "            formulaTECpath = 'D:\\Backup\\Dataset\\Electronic\\IGS/year/days/IGSyear-days.Z'\n",
    "            path = formulaTECpath.replace('year', str(year)).replace('days', str(day)).replace('Z', 'txt')\n",
    "        \n",
    "            if os.path.isfile(path):\n",
    "                with open(path) as fin:\n",
    "                    datafile = fin.readlines()\n",
    "                with open(path,'w') as fout:\n",
    "                    for line in datafile:\n",
    "                        if 'EPOCH OF CURRENT MAP' in line:\n",
    "                            line = line.replace('                        ', ' ').replace('     ', ',').replace('    ', ',').replace('   ', ',').replace('  ', '')\n",
    "                        fout.writelines(line)"
   ]
  },
  {
   "cell_type": "code",
   "execution_count": 11,
   "metadata": {
    "code_folding": []
   },
   "outputs": [
    {
     "name": "stderr",
     "output_type": "stream",
     "text": [
      "100% (23 of 23) |########################| Elapsed Time: 0:18:35 Time:  0:18:35\n"
     ]
    }
   ],
   "source": [
    "tidy_txt(1999, 2022, 1, 367)"
   ]
  }
 ],
 "metadata": {
  "kernelspec": {
   "display_name": "Python 3 (ipykernel)",
   "language": "python",
   "name": "python3"
  },
  "language_info": {
   "codemirror_mode": {
    "name": "ipython",
    "version": 3
   },
   "file_extension": ".py",
   "mimetype": "text/x-python",
   "name": "python",
   "nbconvert_exporter": "python",
   "pygments_lexer": "ipython3",
   "version": "3.8.8"
  },
  "varInspector": {
   "cols": {
    "lenName": 16,
    "lenType": 16,
    "lenVar": 40
   },
   "kernels_config": {
    "python": {
     "delete_cmd_postfix": "",
     "delete_cmd_prefix": "del ",
     "library": "var_list.py",
     "varRefreshCmd": "print(var_dic_list())"
    },
    "r": {
     "delete_cmd_postfix": ") ",
     "delete_cmd_prefix": "rm(",
     "library": "var_list.r",
     "varRefreshCmd": "cat(var_dic_list()) "
    }
   },
   "position": {
    "height": "381px",
    "left": "1974px",
    "right": "20px",
    "top": "194px",
    "width": "350px"
   },
   "types_to_exclude": [
    "module",
    "function",
    "builtin_function_or_method",
    "instance",
    "_Feature"
   ],
   "window_display": true
  }
 },
 "nbformat": 4,
 "nbformat_minor": 4
}
