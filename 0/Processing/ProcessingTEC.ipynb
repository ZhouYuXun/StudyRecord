{
 "cells": [
  {
   "cell_type": "code",
   "execution_count": 1,
   "id": "b2418cdf",
   "metadata": {
    "code_folding": [
     0
    ]
   },
   "outputs": [],
   "source": [
    "# 匯入函數\n",
    "\n",
    "import pandas as pd\n",
    "import numpy as np\n",
    "from sklearn.linear_model import LinearRegression\n",
    "import progressbar as bar"
   ]
  },
  {
   "cell_type": "code",
   "execution_count": 2,
   "id": "3069b039",
   "metadata": {
    "code_folding": [
     0
    ]
   },
   "outputs": [],
   "source": [
    "# 資料篩選\n",
    "\n",
    "def Filter_data(path):\n",
    "\n",
    "    column = ['time','longitude','latitude','scale','depth']\n",
    "\n",
    "    CWBdata = pd.read_csv(path, encoding='big5')\n",
    "    Sortdata = pd.DataFrame(np.array(CWBdata[:len(CWBdata)].iloc[::-1]), columns=column)\n",
    "\n",
    "    frequencytotal = np.unique(Sortdata['scale'], return_counts=True)\n",
    "    frequencydict = dict(zip(frequencytotal[1], frequencytotal[0]))\n",
    "\n",
    "    filterscale = Sortdata['scale'] >= frequencydict.get(max(frequencytotal[1]))\n",
    "    filterdata = pd.DataFrame(np.array(Sortdata[filterscale]), columns=column).dropna(axis = 0)\n",
    "    \n",
    "    filterdata['time'] = pd.to_datetime(filterdata['time'])\n",
    "    filterdata['year'] = pd.to_datetime(filterdata['time']).dt.year\n",
    "    filterdata['month'] = pd.to_datetime(filterdata['time']).dt.month\n",
    "    filterdata['day'] = pd.to_datetime(filterdata['time']).dt.day\n",
    "    filterdata['hour'] = pd.to_datetime(filterdata['time']).dt.hour\n",
    "    filterdata['minute'] = pd.to_datetime(filterdata['time']).dt.minute + pd.to_datetime(filterdata['time']).dt.second/60\n",
    "    \n",
    "    filterdata = filterdata[['year','month','day','hour','minute']]\n",
    "    \n",
    "    return filterdata"
   ]
  },
  {
   "cell_type": "code",
   "execution_count": 3,
   "id": "9a401572",
   "metadata": {},
   "outputs": [],
   "source": [
    "data = Filter_data('D:\\Dataset\\Earthquake\\Original/CWB_593634_19990101_20201231.csv') # 目錄資料"
   ]
  },
  {
   "cell_type": "code",
   "execution_count": 4,
   "id": "e10ebb16",
   "metadata": {
    "code_folding": [
     0
    ]
   },
   "outputs": [],
   "source": [
    "# 原始年日\n",
    "\n",
    "def Initial_yearday_conversion():\n",
    "    \n",
    "    yearday = []\n",
    "    \n",
    "    for x in bar.progressbar(np.arange(len(data))):\n",
    "        \n",
    "        daylist = [31, 28, 31, 30, 31, 30, 31, 31, 30, 31, 30, 31]\n",
    "        \n",
    "        year = data['year'][x]\n",
    "        month = data['month'][x]\n",
    "        day = data['day'][x]\n",
    "        \n",
    "        total,i = 0,0\n",
    "\n",
    "        if (year%4==0 and year%100!=0) or (year%400==0) :\n",
    "            \n",
    "            daylist = [31, 29, 31, 30, 31, 30, 31, 31, 30, 31, 30, 31]\n",
    "        \n",
    "        while month>i+1 :\n",
    "            \n",
    "            total = total+daylist[i]\n",
    "            i=i+1\n",
    "           \n",
    "        yearday.append(total+day)\n",
    "\n",
    "    return yearday"
   ]
  },
  {
   "cell_type": "code",
   "execution_count": 5,
   "id": "d38c80a6",
   "metadata": {},
   "outputs": [
    {
     "name": "stderr",
     "output_type": "stream",
     "text": [
      "100% (395007 of 395007) |################| Elapsed Time: 0:00:07 Time:  0:00:07\n"
     ]
    }
   ],
   "source": [
    "Initialyearday = Initial_yearday_conversion()"
   ]
  },
  {
   "cell_type": "code",
   "execution_count": 6,
   "id": "e747b82f",
   "metadata": {
    "code_folding": [
     0
    ]
   },
   "outputs": [],
   "source": [
    "# 奇數小時\n",
    "\n",
    "def Odd_number_time_conversion():\n",
    "    \n",
    "    newyear,newmonth,newday,newhour,newminute = [],[],[],[],[]\n",
    "    \n",
    "    for x in bar.progressbar(np.arange(len(data))):\n",
    "        \n",
    "        daylist = [31, 28, 31, 30, 31, 30, 31, 31, 30, 31, 30, 31]\n",
    "        \n",
    "        year = data['year'][x]\n",
    "        month = data['month'][x]\n",
    "        day = data['day'][x]\n",
    "        hour = data['hour'][x]\n",
    "        minute = data['minute'][x]\n",
    "      \n",
    "        if hour%2==0:\n",
    "            \n",
    "            hour = hour-1\n",
    "            minute = minute+60\n",
    "        \n",
    "        if hour==-1:\n",
    "            \n",
    "            day = day-1\n",
    "            hour = hour+24\n",
    "            \n",
    "        if day==0:\n",
    "            \n",
    "            if (year%4==0 and year%100!=0) or (year%400==0) :\n",
    "                \n",
    "                daylist = [31, 29, 31, 30, 31, 30, 31, 31, 30, 31, 30, 31]\n",
    "                day = daylist[month-2]\n",
    "                month = month-1\n",
    "                \n",
    "            else:\n",
    "                \n",
    "                daylist = [31, 28, 31, 30, 31, 30, 31, 31, 30, 31, 30, 31]\n",
    "                day = daylist[month-2]\n",
    "                month=month-1\n",
    "                \n",
    "                \n",
    "        if month==0:\n",
    "            \n",
    "            year = year-1\n",
    "            month = 12\n",
    "            day = 31        \n",
    "                            \n",
    "        newyear.append(year)\n",
    "        newmonth.append(month)\n",
    "        newday.append(day)\n",
    "        newhour.append(hour)\n",
    "        newminute.append(minute)\n",
    "\n",
    "    return newyear,newmonth,newday,newhour,newminute"
   ]
  },
  {
   "cell_type": "code",
   "execution_count": 7,
   "id": "ade9d4c6",
   "metadata": {},
   "outputs": [
    {
     "name": "stderr",
     "output_type": "stream",
     "text": [
      "100% (395007 of 395007) |################| Elapsed Time: 0:00:10 Time:  0:00:10\n"
     ]
    }
   ],
   "source": [
    "Oddnumbertime = Odd_number_time_conversion()"
   ]
  },
  {
   "cell_type": "code",
   "execution_count": 8,
   "id": "1b310cb5",
   "metadata": {
    "code_folding": [
     0
    ]
   },
   "outputs": [],
   "source": [
    "# 奇數年日\n",
    "\n",
    "def Odd_yearday_conversion():\n",
    "    \n",
    "    yearday = []\n",
    "    \n",
    "    for x in bar.progressbar(np.arange(len(data))):\n",
    "        \n",
    "        daylist = [31, 28, 31, 30, 31, 30, 31, 31, 30, 31, 30, 31]\n",
    "        \n",
    "        year = Oddnumbertime[0][x]\n",
    "        month = Oddnumbertime[1][x]\n",
    "        day = Oddnumbertime[2][x]\n",
    "        \n",
    "        total,i = 0,0\n",
    "\n",
    "        if (year%4==0 and year%100!=0) or (year%400==0) :\n",
    "            \n",
    "            daylist = [31, 29, 31, 30, 31, 30, 31, 31, 30, 31, 30, 31]\n",
    "        \n",
    "        while month>i+1 :\n",
    "            \n",
    "            total = total+daylist[i]\n",
    "            i=i+1\n",
    "           \n",
    "        yearday.append(total+day)\n",
    "\n",
    "    return yearday"
   ]
  },
  {
   "cell_type": "code",
   "execution_count": 9,
   "id": "e73b0438",
   "metadata": {},
   "outputs": [
    {
     "name": "stderr",
     "output_type": "stream",
     "text": [
      "100% (395007 of 395007) |################| Elapsed Time: 0:00:02 Time:  0:00:02\n"
     ]
    }
   ],
   "source": [
    "Oddyearday = Odd_yearday_conversion()"
   ]
  },
  {
   "cell_type": "code",
   "execution_count": 10,
   "id": "a8ec45b8",
   "metadata": {
    "code_folding": [
     0
    ]
   },
   "outputs": [],
   "source": [
    "# 偶數小時\n",
    "\n",
    "def Even_number_time_conversion():\n",
    "    \n",
    "    newyear,newmonth,newday,newhour,newminute = [],[],[],[],[]\n",
    "    \n",
    "    for x in bar.progressbar(np.arange(len(data))):\n",
    "        \n",
    "        daylist = [31, 28, 31, 30, 31, 30, 31, 31, 30, 31, 30, 31]\n",
    "        \n",
    "        year = data['year'][x]\n",
    "        month = data['month'][x]\n",
    "        day = data['day'][x]\n",
    "        hour = data['hour'][x]\n",
    "        minute = data['minute'][x]\n",
    "      \n",
    "        if hour%2==1:\n",
    "            \n",
    "            hour = hour-1\n",
    "            minute = minute+60\n",
    "   \n",
    "        newyear.append(year)\n",
    "        newmonth.append(month)\n",
    "        newday.append(day)\n",
    "        newhour.append(hour)\n",
    "        newminute.append(minute)\n",
    "\n",
    "    return newyear,newmonth,newday,newhour,newminute"
   ]
  },
  {
   "cell_type": "code",
   "execution_count": 11,
   "id": "4fb23dbc",
   "metadata": {},
   "outputs": [
    {
     "name": "stderr",
     "output_type": "stream",
     "text": [
      "100% (395007 of 395007) |################| Elapsed Time: 0:00:10 Time:  0:00:10\n"
     ]
    }
   ],
   "source": [
    "Evennumbertime = Even_number_time_conversion()"
   ]
  },
  {
   "cell_type": "code",
   "execution_count": 12,
   "id": "a9791ac0",
   "metadata": {
    "code_folding": [
     0
    ]
   },
   "outputs": [],
   "source": [
    "# 偶數年日\n",
    "\n",
    "def Even_yearday_conversion():\n",
    "    \n",
    "    yearday = []\n",
    "    \n",
    "    for x in bar.progressbar(np.arange(len(data))):\n",
    "        \n",
    "        daylist = [31, 28, 31, 30, 31, 30, 31, 31, 30, 31, 30, 31]\n",
    "        \n",
    "        year = Evennumbertime[0][x]\n",
    "        month = Evennumbertime[1][x]\n",
    "        day = Evennumbertime[2][x]\n",
    "        \n",
    "        total,i = 0,0\n",
    "\n",
    "        if (year%4==0 and year%100!=0) or (year%400==0) :\n",
    "            \n",
    "            daylist = [31, 29, 31, 30, 31, 30, 31, 31, 30, 31, 30, 31]\n",
    "        \n",
    "        while month>i+1 :\n",
    "            \n",
    "            total = total+daylist[i]\n",
    "            i=i+1\n",
    "           \n",
    "        yearday.append(total+day)\n",
    "\n",
    "    return yearday"
   ]
  },
  {
   "cell_type": "code",
   "execution_count": 13,
   "id": "27152a25",
   "metadata": {},
   "outputs": [
    {
     "name": "stderr",
     "output_type": "stream",
     "text": [
      "100% (395007 of 395007) |################| Elapsed Time: 0:00:02 Time:  0:00:02\n"
     ]
    }
   ],
   "source": [
    "Evenyearday = Even_yearday_conversion()"
   ]
  },
  {
   "cell_type": "code",
   "execution_count": 14,
   "id": "5161360d",
   "metadata": {
    "code_folding": [
     0
    ]
   },
   "outputs": [],
   "source": [
    "# 日期整合\n",
    "\n",
    "def Time_integration():\n",
    "    \n",
    "    newdata = pd.DataFrame()\n",
    "    \n",
    "    newdata['Oddyear'] = Oddnumbertime[0]\n",
    "    newdata['Oddmonth'] = Oddnumbertime[1]\n",
    "    newdata['Oddday'] = Oddnumbertime[2]\n",
    "    newdata['Oddhour'] = Oddnumbertime[3]\n",
    "    newdata['Oddminute'] = Oddnumbertime[4]\n",
    "    newdata['Oddyearday'] = Oddyearday\n",
    "    \n",
    "    newdata['Initialyear'] = data['year']\n",
    "    newdata['Initialmonth'] = data['month']\n",
    "    newdata['Initialday'] = data['day']\n",
    "    newdata['Initialhour'] = data['hour']\n",
    "    newdata['Initialminute'] = data['minute']\n",
    "    newdata['Initialyearday'] = Initialyearday\n",
    "    \n",
    "    newdata['Evenyear'] = Evennumbertime[0]\n",
    "    newdata['Evenmonth'] = Evennumbertime[1]\n",
    "    newdata['Evenday'] = Evennumbertime[2]\n",
    "    newdata['Evenhour'] = Evennumbertime[3]\n",
    "    newdata['Evenminute'] = Evennumbertime[4]\n",
    "    newdata['Evenyearday'] = Evenyearday\n",
    "    \n",
    "    return newdata"
   ]
  },
  {
   "cell_type": "code",
   "execution_count": 15,
   "id": "870753f5",
   "metadata": {},
   "outputs": [],
   "source": [
    "data = Time_integration()"
   ]
  },
  {
   "cell_type": "code",
   "execution_count": null,
   "id": "6372e360",
   "metadata": {},
   "outputs": [],
   "source": []
  },
  {
   "cell_type": "code",
   "execution_count": 16,
   "id": "f33c9a94",
   "metadata": {
    "code_folding": [
     0
    ]
   },
   "outputs": [],
   "source": [
    "# 地震時間 奇數-1\n",
    "\n",
    "def check_time1(Oddpath,Initialpath,Oyear,Iyear,Omonth,Imonth,Oday,Iday,Ohour,Ominute):\n",
    "    \n",
    "    with open(Initialpath) as fin :\n",
    "        Initialfile = fin.readlines()\n",
    "\n",
    "    if Ominute==0 :\n",
    "        \n",
    "        find1 = str(Iyear)+','+str(Imonth)+','+str(Iday)+','+str(Ohour)+',0,0 EPOCH OF CURRENT MAP\\n'\n",
    "        return [Initialfile.index(find1),Initialfile.index(find1)]\n",
    "    \n",
    "    else :\n",
    "        \n",
    "        return check_time2(Oddpath,Initialpath,Oyear,Iyear,Omonth,Imonth,Oday,Iday,Ohour)"
   ]
  },
  {
   "cell_type": "code",
   "execution_count": 17,
   "id": "3b9079e8",
   "metadata": {
    "code_folding": [
     0
    ]
   },
   "outputs": [],
   "source": [
    "# 地震時間 奇數-2\n",
    "\n",
    "def check_time2(Oddpath,Initialpath,Oyear,Iyear,Omonth,Imonth,Oday,Iday,Ohour):\n",
    "\n",
    "    with open(Oddpath) as fin :\n",
    "        Oddfile = fin.readlines()\n",
    "    with open(Initialpath) as fin :\n",
    "        Initialfile = fin.readlines()\n",
    "    \n",
    "    if Ohour+2==25:\n",
    "        \n",
    "        Ohour1 = 1\n",
    "        find1 = str(Oyear)+','+str(Omonth)+','+str(Oday)+','+str(Ohour)+',0,0 EPOCH OF CURRENT MAP\\n'\n",
    "        find2 = str(Iyear)+','+str(Imonth)+','+str(Iday)+','+str(Ohour1)+',0,0 EPOCH OF CURRENT MAP\\n'\n",
    "        return [Oddfile.index(find1),Initialfile.index(find2)]\n",
    "    \n",
    "    else: \n",
    "        \n",
    "        find1 = str(Oyear)+','+str(Omonth)+','+str(Oday)+','+str(Ohour)+',0,0 EPOCH OF CURRENT MAP\\n'\n",
    "        find2 = str(Oyear)+','+str(Omonth)+','+str(Oday)+','+str(Ohour+2)+',0,0 EPOCH OF CURRENT MAP\\n'\n",
    "        return [Initialfile.index(find1),Initialfile.index(find2)]"
   ]
  },
  {
   "cell_type": "code",
   "execution_count": 18,
   "id": "f897df61",
   "metadata": {
    "code_folding": [
     0
    ]
   },
   "outputs": [],
   "source": [
    "# 地震時間 偶數-1\n",
    "\n",
    "def check_time3(Initialpath,Evenpath,Iyear,Eyear,Imonth,Emonth,Iday,Eday,Ehour,Eminute):\n",
    "    \n",
    "    with open(Initialpath) as fin :\n",
    "        Initialfile = fin.readlines()\n",
    "\n",
    "    if Eminute==0 :\n",
    "        \n",
    "        find1 = str(Iyear)+','+str(Imonth)+','+str(Iday)+','+str(Ehour)+',0,0 EPOCH OF CURRENT MAP\\n'\n",
    "        return [Initialfile.index(find1),Initialfile.index(find1)]\n",
    "    \n",
    "    else :\n",
    "        \n",
    "        return check_time4(Initialpath,Evenpath,Iyear,Eyear,Imonth,Emonth,Iday,Eday,Ehour)"
   ]
  },
  {
   "cell_type": "code",
   "execution_count": 19,
   "id": "695a7b97",
   "metadata": {
    "code_folding": [
     0
    ]
   },
   "outputs": [],
   "source": [
    "# 地震時間 偶數-2\n",
    "\n",
    "def check_time4(Initialpath,Evenpath,Iyear,Eyear,Imonth,Emonth,Iday,Eday,Ehour):\n",
    "\n",
    "    with open(Initialpath) as fin :\n",
    "        Initialfile = fin.readlines()  \n",
    "    with open(Evenpath) as fin :\n",
    "        Evenfile = fin.readlines()\n",
    "\n",
    "    if Ehour+2 == 24:\n",
    "        \n",
    "        Ehour1 = 0\n",
    "        find1 = str(Iyear)+','+str(Imonth)+','+str(Iday)+','+str(Ehour)+',0,0 EPOCH OF CURRENT MAP\\n'\n",
    "        find2 = str(Eyear)+','+str(Emonth)+','+str(Eday)+','+str(Ehour1)+',0,0 EPOCH OF CURRENT MAP\\n'\n",
    "        return [Initialfile.index(find1), Evenfile.index(find2)]\n",
    "    \n",
    "    else:\n",
    "        \n",
    "        find1 = str(Iyear)+','+str(Imonth)+','+str(Iday)+','+str(Ehour)+',0,0 EPOCH OF CURRENT MAP\\n'\n",
    "        find2 = str(Iyear)+','+str(Imonth)+','+str(Iday)+','+str(Ehour+2)+',0,0 EPOCH OF CURRENT MAP\\n'\n",
    "        return [Initialfile.index(find1),Initialfile.index(find2)]"
   ]
  },
  {
   "cell_type": "code",
   "execution_count": 20,
   "id": "a20366da",
   "metadata": {
    "code_folding": [
     0
    ]
   },
   "outputs": [],
   "source": [
    "# 查詢經緯度\n",
    "\n",
    "def check_latlon(path, start):\n",
    "    \n",
    "    with open(path) as fin:\n",
    "        datafile = fin.readlines()\n",
    "\n",
    "    for line in datafile:\n",
    "        \n",
    "        latlon0 = '    17.5-180.0 180.0   5.0 450.0                            LAT/LON1/LON2/DLON/H\\n'\n",
    "        latlon1 = '    20.0-180.0 180.0   5.0 450.0                            LAT/LON1/LON2/DLON/H\\n'\n",
    "        latlon2 = '    22.5-180.0 180.0   5.0 450.0                            LAT/LON1/LON2/DLON/H\\n'\n",
    "        latlon3 = '    25.0-180.0 180.0   5.0 450.0                            LAT/LON1/LON2/DLON/H\\n'\n",
    "        latlon4 = '    27.5-180.0 180.0   5.0 450.0                            LAT/LON1/LON2/DLON/H\\n'\n",
    "        \n",
    "        if latlon1 in line:\n",
    "            \n",
    "            return [datafile.index(latlon0,start),datafile.index(latlon1,start),datafile.index(latlon2,start),datafile.index(latlon3,start),datafile.index(latlon4,start)]"
   ]
  },
  {
   "cell_type": "code",
   "execution_count": null,
   "id": "d0116e4d",
   "metadata": {},
   "outputs": [],
   "source": []
  },
  {
   "cell_type": "code",
   "execution_count": 21,
   "id": "b4031c0e",
   "metadata": {
    "code_folding": [
     0
    ]
   },
   "outputs": [],
   "source": [
    "# 每筆平均\n",
    "\n",
    "def TEC_day_Inter_polate():\n",
    "\n",
    "    formulaTECpath = 'D:\\Dataset\\Electronic\\IGS/year/days/IGSyear-days.txt'\n",
    "    \n",
    "    TEC_F,TEC_R,TECEach = np.empty(25),np.empty(25),np.empty([len(data),25])\n",
    "\n",
    "    for x in bar.progressbar(np.arange(len(data))):\n",
    "        \n",
    "        Oyear = data['Oddyear'][x]\n",
    "        Omonth = data['Oddmonth'][x]\n",
    "        Oday = data['Oddday'][x]\n",
    "        Ohour = data['Oddhour'][x]\n",
    "        Ominute = data['Oddminute'][x]\n",
    "        Oyearday = data['Oddyearday'][x]\n",
    "        \n",
    "        Iyear = data['Initialyear'][x]\n",
    "        Imonth = data['Initialmonth'][x]\n",
    "        Iday = data['Initialday'][x]\n",
    "        Ihour = data['Initialhour'][x]\n",
    "        Iyearday = data['Initialyearday'][x]\n",
    "        \n",
    "        Eyear = data['Evenyear'][x]\n",
    "        Emonth = data['Evenmonth'][x]\n",
    "        Eday = data['Evenday'][x]\n",
    "        Ehour = data['Evenhour'][x]\n",
    "        Eminute = data['Evenminute'][x]\n",
    "        Eyearday = data['Evenyearday'][x]\n",
    "\n",
    "        # 1. 檔案路徑\n",
    "        \n",
    "        Oddpath = formulaTECpath.replace('year', str(Oyear)).replace('days', str(Oyearday))\n",
    "        Initialpath = formulaTECpath.replace('year', str(Iyear)).replace('days', str(Iyearday))\n",
    "        Evenpath = formulaTECpath.replace('year', str(Eyear)).replace('days', str(Eyearday))\n",
    "        \n",
    "        with open(Oddpath) as fin :\n",
    "            Oddfile = fin.readlines()\n",
    "        with open(Initialpath) as fin :\n",
    "            Initialfile = fin.readlines() \n",
    "        with open(Evenpath) as fin :\n",
    "            Evenfile = fin.readlines()\n",
    "            \n",
    "        # 2. 檔案內容\n",
    "            \n",
    "        if Iyear<2002 or (Iyear==2002 and Iyearday<307): \n",
    "\n",
    "            time_index = np.array(check_time1(Oddpath, Initialpath, \n",
    "                                              Oyear, Iyear, \n",
    "                                              Omonth, Imonth, \n",
    "                                              Oday, Iday, \n",
    "                                              Ohour, Ominute))\n",
    "            \n",
    "        if Iyear>2002 or (Iyear==2002 and Iyearday>=307):\n",
    "\n",
    "            time_index = np.array(check_time3(Initialpath,Evenpath,\n",
    "                                              Iyear,Eyear,\n",
    "                                              Imonth,Emonth,\n",
    "                                              Iday,Eday,\n",
    "                                              Ehour,Eminute))\n",
    "\n",
    "        \n",
    "        # 3. 01=前時間資料 ; 23=後時間資料 (20,22.5,25)\n",
    "\n",
    "        \n",
    "        if (Iyear<=2002 and Iyearday<307) and Ohour+2 == 25: # 奇數且換日\n",
    "\n",
    "            latlon_index_F = check_latlon(Oddpath, time_index[0]) \n",
    "            latlon_index_R = check_latlon(Initialpath, time_index[1])\n",
    "             \n",
    "            \n",
    "            str0 = Oddfile[latlon_index_F[0]+1]+Oddfile[latlon_index_F[0]+2]+Oddfile[latlon_index_F[0]+3]+Oddfile[latlon_index_F[0]+4]+Oddfile[latlon_index_F[0]+5]\n",
    "            str1 = Oddfile[latlon_index_F[1]+1]+Oddfile[latlon_index_F[1]+2]+Oddfile[latlon_index_F[1]+3]+Oddfile[latlon_index_F[1]+4]+Oddfile[latlon_index_F[1]+5]\n",
    "            str2 = Oddfile[latlon_index_F[2]+1]+Oddfile[latlon_index_F[2]+2]+Oddfile[latlon_index_F[2]+3]+Oddfile[latlon_index_F[2]+4]+Oddfile[latlon_index_F[2]+5]\n",
    "            str3 = Oddfile[latlon_index_F[3]+1]+Oddfile[latlon_index_F[3]+2]+Oddfile[latlon_index_F[3]+3]+Oddfile[latlon_index_F[3]+4]+Oddfile[latlon_index_F[3]+5]\n",
    "            str4 = Oddfile[latlon_index_F[4]+1]+Oddfile[latlon_index_F[4]+2]+Oddfile[latlon_index_F[4]+3]+Oddfile[latlon_index_F[4]+4]+Oddfile[latlon_index_F[4]+5]\n",
    "            \n",
    "            str5 = Initialfile[latlon_index_R[0]+1]+Initialfile[latlon_index_R[0]+2]+Initialfile[latlon_index_R[0]+3]+Initialfile[latlon_index_R[0]+4]+Initialfile[latlon_index_R[0]+5]\n",
    "            str6 = Initialfile[latlon_index_R[1]+1]+Initialfile[latlon_index_R[1]+2]+Initialfile[latlon_index_R[1]+3]+Initialfile[latlon_index_R[1]+4]+Initialfile[latlon_index_R[1]+5]\n",
    "            str7 = Initialfile[latlon_index_R[2]+1]+Initialfile[latlon_index_R[2]+2]+Initialfile[latlon_index_R[2]+3]+Initialfile[latlon_index_R[2]+4]+Initialfile[latlon_index_R[2]+5]\n",
    "            str8 = Initialfile[latlon_index_R[3]+1]+Initialfile[latlon_index_R[3]+2]+Initialfile[latlon_index_R[3]+3]+Initialfile[latlon_index_R[3]+4]+Initialfile[latlon_index_R[3]+5]\n",
    "            str9 = Initialfile[latlon_index_R[4]+1]+Initialfile[latlon_index_R[4]+2]+Initialfile[latlon_index_R[4]+3]+Initialfile[latlon_index_R[4]+4]+Initialfile[latlon_index_R[4]+5]\n",
    "          \n",
    "        elif (Iyear>=2002 and Iyearday>307) and Ehour+2 == 24: # 偶數且換日\n",
    "\n",
    "            latlon_index_F = check_latlon(Initialpath, time_index[0])\n",
    "            latlon_index_R = check_latlon(Evenpath, time_index[1])\n",
    "            \n",
    "            \n",
    "            str0 = Initialfile[latlon_index_F[0]+1]+Initialfile[latlon_index_F[0]+2]+Initialfile[latlon_index_F[0]+3]+Initialfile[latlon_index_F[0]+4]+Initialfile[latlon_index_F[0]+5]\n",
    "            str1 = Initialfile[latlon_index_F[1]+1]+Initialfile[latlon_index_F[1]+2]+Initialfile[latlon_index_F[1]+3]+Initialfile[latlon_index_F[1]+4]+Initialfile[latlon_index_F[1]+5]\n",
    "            str2 = Initialfile[latlon_index_F[2]+1]+Initialfile[latlon_index_F[2]+2]+Initialfile[latlon_index_F[2]+3]+Initialfile[latlon_index_F[2]+4]+Initialfile[latlon_index_F[2]+5]\n",
    "            str3 = Initialfile[latlon_index_F[3]+1]+Initialfile[latlon_index_F[3]+2]+Initialfile[latlon_index_F[3]+3]+Initialfile[latlon_index_F[3]+4]+Initialfile[latlon_index_F[3]+5]\n",
    "            str4 = Initialfile[latlon_index_F[4]+1]+Initialfile[latlon_index_F[4]+2]+Initialfile[latlon_index_F[4]+3]+Initialfile[latlon_index_F[4]+4]+Initialfile[latlon_index_F[4]+5]\n",
    "            \n",
    "            str5 = Evenfile[latlon_index_R[0]+1]+Evenfile[latlon_index_R[0]+2]+Evenfile[latlon_index_R[0]+3]+Evenfile[latlon_index_R[0]+4]+Evenfile[latlon_index_R[0]+5]\n",
    "            str6 = Evenfile[latlon_index_R[1]+1]+Evenfile[latlon_index_R[1]+2]+Evenfile[latlon_index_R[1]+3]+Evenfile[latlon_index_R[1]+4]+Evenfile[latlon_index_R[1]+5]\n",
    "            str7 = Evenfile[latlon_index_R[2]+1]+Evenfile[latlon_index_R[2]+2]+Evenfile[latlon_index_R[2]+3]+Evenfile[latlon_index_R[2]+4]+Evenfile[latlon_index_R[2]+5]\n",
    "            str8 = Evenfile[latlon_index_R[3]+1]+Evenfile[latlon_index_R[3]+2]+Evenfile[latlon_index_R[3]+3]+Evenfile[latlon_index_R[3]+4]+Evenfile[latlon_index_R[3]+5]\n",
    "            str9 = Evenfile[latlon_index_R[4]+1]+Evenfile[latlon_index_R[4]+2]+Evenfile[latlon_index_R[4]+3]+Evenfile[latlon_index_R[4]+4]+Evenfile[latlon_index_R[4]+5]\n",
    "        \n",
    "        else:\n",
    "\n",
    "            latlon_index_F = check_latlon(Initialpath, time_index[0])\n",
    "            latlon_index_R = check_latlon(Initialpath, time_index[1])\n",
    "            \n",
    "            \n",
    "            str0 = Initialfile[latlon_index_F[0]+1]+Initialfile[latlon_index_F[0]+2]+Initialfile[latlon_index_F[0]+3]+Initialfile[latlon_index_F[0]+4]+Initialfile[latlon_index_F[0]+5]\n",
    "            str1 = Initialfile[latlon_index_F[1]+1]+Initialfile[latlon_index_F[1]+2]+Initialfile[latlon_index_F[1]+3]+Initialfile[latlon_index_F[1]+4]+Initialfile[latlon_index_F[1]+5]\n",
    "            str2 = Initialfile[latlon_index_F[2]+1]+Initialfile[latlon_index_F[2]+2]+Initialfile[latlon_index_F[2]+3]+Initialfile[latlon_index_F[2]+4]+Initialfile[latlon_index_F[2]+5]\n",
    "            str3 = Initialfile[latlon_index_F[3]+1]+Initialfile[latlon_index_F[3]+2]+Initialfile[latlon_index_F[3]+3]+Initialfile[latlon_index_F[3]+4]+Initialfile[latlon_index_F[3]+5]\n",
    "            str4 = Initialfile[latlon_index_F[4]+1]+Initialfile[latlon_index_F[4]+2]+Initialfile[latlon_index_F[4]+3]+Initialfile[latlon_index_F[4]+4]+Initialfile[latlon_index_F[4]+5]\n",
    "            \n",
    "            str5 = Initialfile[latlon_index_R[0]+1]+Initialfile[latlon_index_R[0]+2]+Initialfile[latlon_index_R[0]+3]+Initialfile[latlon_index_R[0]+4]+Initialfile[latlon_index_R[0]+5]\n",
    "            str6 = Initialfile[latlon_index_R[1]+1]+Initialfile[latlon_index_R[1]+2]+Initialfile[latlon_index_R[1]+3]+Initialfile[latlon_index_R[1]+4]+Initialfile[latlon_index_R[1]+5]\n",
    "            str7 = Initialfile[latlon_index_R[2]+1]+Initialfile[latlon_index_R[2]+2]+Initialfile[latlon_index_R[2]+3]+Initialfile[latlon_index_R[2]+4]+Initialfile[latlon_index_R[2]+5]\n",
    "            str8 = Initialfile[latlon_index_R[3]+1]+Initialfile[latlon_index_R[3]+2]+Initialfile[latlon_index_R[3]+3]+Initialfile[latlon_index_R[3]+4]+Initialfile[latlon_index_R[3]+5]\n",
    "            str9 = Initialfile[latlon_index_R[4]+1]+Initialfile[latlon_index_R[4]+2]+Initialfile[latlon_index_R[4]+3]+Initialfile[latlon_index_R[4]+4]+Initialfile[latlon_index_R[4]+5]\n",
    "          \n",
    "        # 7. 清理&轉換\n",
    "\n",
    "        stre0 = str0.replace('\\n', '').replace('   ','  ').replace('  ', ' ').lstrip().split(' ')\n",
    "        stre1 = str1.replace('\\n', '').replace('   ','  ').replace('  ', ' ').lstrip().split(' ')\n",
    "        stre2 = str2.replace('\\n', '').replace('   ','  ').replace('  ', ' ').lstrip().split(' ')\n",
    "        stre3 = str3.replace('\\n', '').replace('   ','  ').replace('  ', ' ').lstrip().split(' ')\n",
    "        stre4 = str4.replace('\\n', '').replace('   ','  ').replace('  ', ' ').lstrip().split(' ')\n",
    "        \n",
    "        stre5 = str5.replace('\\n', '').replace('   ','  ').replace('  ', ' ').lstrip().split(' ')\n",
    "        stre6 = str6.replace('\\n', '').replace('   ','  ').replace('  ', ' ').lstrip().split(' ')\n",
    "        stre7 = str7.replace('\\n', '').replace('   ','  ').replace('  ', ' ').lstrip().split(' ')\n",
    "        stre8 = str8.replace('\\n', '').replace('   ','  ').replace('  ', ' ').lstrip().split(' ')\n",
    "        stre9 = str9.replace('\\n', '').replace('   ','  ').replace('  ', ' ').lstrip().split(' ')\n",
    "        \n",
    "        # 8. 台灣位置\n",
    "\n",
    "        sequence = np.arange(-180,185,5)\n",
    "        latlonwhere = np.where([sequence==110,sequence==115,sequence==120,sequence==125,sequence==130])\n",
    "        \n",
    "        # 時前\n",
    "        \n",
    "        #17.5 (115,120,125)\n",
    "        \n",
    "        TEC_F[0] = stre0[latlonwhere[1][0]]\n",
    "        TEC_F[1] = stre0[latlonwhere[1][1]]\n",
    "        TEC_F[2] = stre0[latlonwhere[1][2]]\n",
    "        TEC_F[3] = stre0[latlonwhere[1][3]]\n",
    "        TEC_F[4] = stre0[latlonwhere[1][4]]\n",
    "        \n",
    "        # 20 (115,120,125)\n",
    "        \n",
    "        TEC_F[5] = stre1[latlonwhere[1][0]]\n",
    "        TEC_F[6] = stre1[latlonwhere[1][1]]\n",
    "        TEC_F[7] = stre1[latlonwhere[1][2]]\n",
    "        TEC_F[8] = stre1[latlonwhere[1][3]]\n",
    "        TEC_F[9] = stre1[latlonwhere[1][4]]\n",
    "        \n",
    "        # 22.5 (115,120,125)\n",
    "\n",
    "        TEC_F[10] = stre2[latlonwhere[1][0]]\n",
    "        TEC_F[11] = stre2[latlonwhere[1][1]]\n",
    "        TEC_F[12] = stre2[latlonwhere[1][2]]\n",
    "        TEC_F[13] = stre2[latlonwhere[1][3]]\n",
    "        TEC_F[14] = stre2[latlonwhere[1][4]]\n",
    "        \n",
    "        # 25 (115,120,125)\n",
    "\n",
    "        TEC_F[15] = stre3[latlonwhere[1][0]]\n",
    "        TEC_F[16] = stre3[latlonwhere[1][1]]\n",
    "        TEC_F[17] = stre3[latlonwhere[1][2]]\n",
    "        TEC_F[18] = stre3[latlonwhere[1][3]]\n",
    "        TEC_F[19] = stre3[latlonwhere[1][4]]\n",
    "        \n",
    "        # 27.5 (115,120,125)\n",
    "\n",
    "        TEC_F[20] = stre4[latlonwhere[1][0]]\n",
    "        TEC_F[21] = stre4[latlonwhere[1][1]]\n",
    "        TEC_F[22] = stre4[latlonwhere[1][2]]\n",
    "        TEC_F[23] = stre4[latlonwhere[1][3]]\n",
    "        TEC_F[24] = stre4[latlonwhere[1][4]]\n",
    "        \n",
    "        # 後時\n",
    "\n",
    "        #17.5 (115,120,125)\n",
    "        \n",
    "        TEC_R[0] = stre0[latlonwhere[1][0]]\n",
    "        TEC_R[1] = stre0[latlonwhere[1][1]]\n",
    "        TEC_R[2] = stre0[latlonwhere[1][2]]\n",
    "        TEC_R[3] = stre0[latlonwhere[1][3]]\n",
    "        TEC_R[4] = stre0[latlonwhere[1][4]]\n",
    "        \n",
    "        # 20 (115,120,125)\n",
    "        \n",
    "        TEC_R[5] = stre1[latlonwhere[1][0]]\n",
    "        TEC_R[6] = stre1[latlonwhere[1][1]]\n",
    "        TEC_R[7] = stre1[latlonwhere[1][2]]\n",
    "        TEC_R[8] = stre1[latlonwhere[1][3]]\n",
    "        TEC_R[9] = stre1[latlonwhere[1][4]]\n",
    "        \n",
    "        # 22.5 (115,120,125)\n",
    "\n",
    "        TEC_R[10] = stre2[latlonwhere[1][0]]\n",
    "        TEC_R[11] = stre2[latlonwhere[1][1]]\n",
    "        TEC_R[12] = stre2[latlonwhere[1][2]]\n",
    "        TEC_R[13] = stre2[latlonwhere[1][3]]\n",
    "        TEC_R[14] = stre2[latlonwhere[1][4]]\n",
    "        \n",
    "        # 25 (115,120,125)\n",
    "\n",
    "        TEC_R[15] = stre3[latlonwhere[1][0]]\n",
    "        TEC_R[16] = stre3[latlonwhere[1][1]]\n",
    "        TEC_R[17] = stre3[latlonwhere[1][2]]\n",
    "        TEC_R[18] = stre3[latlonwhere[1][3]]\n",
    "        TEC_R[19] = stre3[latlonwhere[1][4]]\n",
    "        \n",
    "        # 27.5 (115,120,125)\n",
    "\n",
    "        TEC_R[20] = stre4[latlonwhere[1][0]]\n",
    "        TEC_R[21] = stre4[latlonwhere[1][1]]\n",
    "        TEC_R[22] = stre4[latlonwhere[1][2]]\n",
    "        TEC_R[23] = stre4[latlonwhere[1][3]]\n",
    "        TEC_R[24] = stre4[latlonwhere[1][4]]\n",
    "\n",
    "        # 9. 時間權重\n",
    "\n",
    "        if Ominute==0 or Eminute==0:\n",
    "            \n",
    "            TECEach[x] = (TEC_F+TEC_R)/2\n",
    "            \n",
    "        elif Ihour%2!=0:\n",
    "            \n",
    "            if Ominute<=59:\n",
    "                \n",
    "                TECEach[x] = TEC_F*(1-Ominute/120)+TEC_R*(Ominute/120)\n",
    "                \n",
    "            else :\n",
    "                \n",
    "                TECEach[x] = TEC_F*(1-Ominute/120)+TEC_R*(Ominute/120)\n",
    "        else:\n",
    "            \n",
    "            if Eminute<=59:\n",
    "                \n",
    "                TECEach[x] = TEC_F*(1-Eminute/120)+TEC_R*(Eminute/120)\n",
    "                \n",
    "            else :\n",
    "                \n",
    "                TECEach[x] = TEC_F*(1-Eminute/120)+TEC_R*(Eminute/120)      \n",
    "        \n",
    "    return TECEach"
   ]
  },
  {
   "cell_type": "code",
   "execution_count": 22,
   "id": "343c0a00",
   "metadata": {},
   "outputs": [
    {
     "name": "stderr",
     "output_type": "stream",
     "text": [
      "100% (395007 of 395007) |################| Elapsed Time: 4:40:40 Time:  4:40:40\n"
     ]
    }
   ],
   "source": [
    "TECeach = TEC_day_Inter_polate()"
   ]
  },
  {
   "cell_type": "code",
   "execution_count": 23,
   "id": "61e9e16a",
   "metadata": {
    "code_folding": [
     0
    ]
   },
   "outputs": [],
   "source": [
    "# 時間與每筆資料整合\n",
    "\n",
    "def Data_integration_dayeach():\n",
    "    \n",
    "    newdata = pd.DataFrame()\n",
    "    \n",
    "    newdata['year'] = data['Initialyear']\n",
    "    newdata['month'] = data['Initialmonth']\n",
    "    newdata['day'] = data['Initialday']\n",
    "    newdata['hour'] = data['Initialhour']\n",
    "    newdata['minute'] = data['Initialminute']\n",
    "    \n",
    "    newdata = pd.concat([newdata,pd.DataFrame(TECeach)],axis=1)\n",
    "    \n",
    "    return newdata"
   ]
  },
  {
   "cell_type": "code",
   "execution_count": 24,
   "id": "8a8845d5",
   "metadata": {},
   "outputs": [],
   "source": [
    "datasetE = Data_integration_dayeach()"
   ]
  },
  {
   "cell_type": "code",
   "execution_count": 34,
   "id": "72493bba",
   "metadata": {
    "code_folding": [
     0
    ]
   },
   "outputs": [],
   "source": [
    "# 儲存每筆資料\n",
    "\n",
    "def Store_data():\n",
    "    \n",
    "    filePath = 'D:\\Dataset\\Earthquake\\Original/TEC_Each.xlsx'\n",
    "    datasetE.to_excel(filePath,sheet_name='TEC',index=False)"
   ]
  },
  {
   "cell_type": "code",
   "execution_count": 35,
   "id": "39fc3572",
   "metadata": {},
   "outputs": [],
   "source": [
    "Store_data()"
   ]
  },
  {
   "cell_type": "code",
   "execution_count": 25,
   "id": "c0e6544e",
   "metadata": {
    "code_folding": [
     0
    ]
   },
   "outputs": [],
   "source": [
    "# 每日平均\n",
    "\n",
    "def TECday_mean_interval(startyear,endyear,startmonth,endmonth):\n",
    "    \n",
    "    TEClist,TEC,TECmax = pd.DataFrame(),pd.DataFrame(),pd.DataFrame()\n",
    "    \n",
    "    datasetE = pd.read_excel('D:\\Dataset\\Earthquake\\Original/TEC_Each.xlsx')\n",
    "    \n",
    "    years = np.arange(startyear,endyear)\n",
    "    months = np.arange(startmonth,endmonth)\n",
    "        \n",
    "    for year in bar.progressbar(years):\n",
    "        \n",
    "        daylist = [31, 28, 31, 30, 31, 30, 31, 31, 30, 31, 30, 31]\n",
    "        \n",
    "        if (year%4==0 and year%100!=0) or (year%400==0) : \n",
    "            \n",
    "            daylist = [31, 29, 31, 30, 31, 30, 31, 31, 30, 31, 30, 31]\n",
    "        \n",
    "        for month in months:\n",
    "            \n",
    "            days = np.arange(1,daylist[month-1]+1)\n",
    "\n",
    "            for day in days:\n",
    "            \n",
    "                TEC = pd.concat([TEC,pd.DataFrame(np.mean(datasetE[(datasetE['year']==year)&(datasetE['month']==month)&(datasetE['day']==day)].iloc[:,5:])).T],ignore_index=True)\n",
    "                TECmax = pd.concat([TECmax,pd.DataFrame(np.max(datasetE[(datasetE['year']==year)&(datasetE['month']==month)&(datasetE['day']==day)].iloc[:,5:])).T],ignore_index=True)\n",
    "    \n",
    "    TEClist = pd.concat([TEC,TECmax],axis=1)\n",
    "    \n",
    "    TEClist.columns = range(50)\n",
    "    \n",
    "    return TEClist"
   ]
  },
  {
   "cell_type": "code",
   "execution_count": 26,
   "id": "54fce084",
   "metadata": {
    "scrolled": true
   },
   "outputs": [
    {
     "name": "stderr",
     "output_type": "stream",
     "text": [
      "100% (22 of 22) |########################| Elapsed Time: 0:00:37 Time:  0:00:37\n"
     ]
    }
   ],
   "source": [
    "datasetD = TECday_mean_interval(1999,2021,1,13)"
   ]
  },
  {
   "cell_type": "code",
   "execution_count": 48,
   "id": "e40eb0ff",
   "metadata": {
    "code_folding": []
   },
   "outputs": [],
   "source": [
    "# 儲存每日資料\n",
    "\n",
    "def Store_data():\n",
    "    \n",
    "    filePath = 'D:\\Dataset\\Earthquake\\Original/TEC_Day.xlsx'\n",
    "    datasetD.to_excel(filePath,sheet_name='TEC',index=False)"
   ]
  },
  {
   "cell_type": "code",
   "execution_count": 49,
   "id": "10cafe49",
   "metadata": {},
   "outputs": [],
   "source": [
    "Store_data()"
   ]
  },
  {
   "cell_type": "code",
   "execution_count": 66,
   "id": "67b6d0fb",
   "metadata": {
    "code_folding": []
   },
   "outputs": [],
   "source": [
    "# 拆分日\n",
    "\n",
    "def TECsplit_Day():\n",
    "    \n",
    "    TEC55_1 = pd.read_excel('D:\\Dataset\\Earthquake\\Original/TEC_Day.xlsx')\n",
    "    TEC33_1 = pd.concat([TEC55_1.iloc[:,6:9],TEC55_1.iloc[:,11:14],TEC55_1.iloc[:,16:19],TEC55_1.iloc[:,31:34],TEC55_1.iloc[:,36:39],TEC55_1.iloc[:,41:44]],axis=1)\n",
    "    TEC11_1 = pd.concat([TEC55_1.iloc[:,12:13],TEC55_1.iloc[:,37:38]],axis=1)\n",
    "    \n",
    "    filePath = 'D:\\Dataset\\Earthquake\\Original/TEC_Day_55.xlsx'\n",
    "    TEC55_1.to_excel(filePath,sheet_name='TEC',index=False)\n",
    "    \n",
    "    filePath = 'D:\\Dataset\\Earthquake\\Original/TEC_Day_33.xlsx'\n",
    "    TEC33_1.to_excel(filePath,sheet_name='TEC',index=False)\n",
    "    \n",
    "    filePath = 'D:\\Dataset\\Earthquake\\Original/TEC_Day_11.xlsx'\n",
    "    TEC11_1.to_excel(filePath,sheet_name='TEC',index=False)"
   ]
  },
  {
   "cell_type": "code",
   "execution_count": 67,
   "id": "afe11d67",
   "metadata": {},
   "outputs": [],
   "source": [
    "TECsplit_Day()"
   ]
  },
  {
   "cell_type": "code",
   "execution_count": null,
   "id": "df8ac25b",
   "metadata": {},
   "outputs": [],
   "source": []
  },
  {
   "cell_type": "code",
   "execution_count": 41,
   "id": "b1f0499b",
   "metadata": {
    "code_folding": [
     0
    ]
   },
   "outputs": [],
   "source": [
    "# 單週平均\n",
    "\n",
    "def TEC_month_Inter_polate(startyear,endyear,startmonth,endmonth):\n",
    "    \n",
    "    TEC = pd.DataFrame()\n",
    "    \n",
    "    TECDay = pd.read_excel('D:\\Dataset\\Earthquake\\Original/TEC_Day_33.xlsx')\n",
    "    \n",
    "    for i in range(int(len(TECDay)/7)):\n",
    "            \n",
    "            TEC = pd.concat([TEC,pd.DataFrame(np.mean(TECDay.iloc[i*7:(i+1)*7,:])).T],ignore_index=True)\n",
    "    \n",
    "    TEC.columns = range(18)\n",
    "            \n",
    "    return TEC"
   ]
  },
  {
   "cell_type": "code",
   "execution_count": 42,
   "id": "bf5ef384",
   "metadata": {},
   "outputs": [],
   "source": [
    "datasetOW = TEC_month_Inter_polate(1999,2021,1,13)"
   ]
  },
  {
   "cell_type": "code",
   "execution_count": 62,
   "id": "8abdf5f9",
   "metadata": {
    "code_folding": [
     0
    ]
   },
   "outputs": [],
   "source": [
    "# 儲存單週資料\n",
    "\n",
    "def Store_data():\n",
    "    \n",
    "    filePath = 'D:\\Dataset\\Earthquake\\Original/TEC_OneWeek_33.xlsx'\n",
    "    datasetOW.to_excel(filePath,sheet_name='TEC',index=False)"
   ]
  },
  {
   "cell_type": "code",
   "execution_count": 63,
   "id": "4f01eda4",
   "metadata": {},
   "outputs": [],
   "source": [
    "Store_data()"
   ]
  },
  {
   "cell_type": "code",
   "execution_count": null,
   "id": "5fb223b1",
   "metadata": {},
   "outputs": [],
   "source": []
  },
  {
   "cell_type": "code",
   "execution_count": 52,
   "id": "ec445002",
   "metadata": {
    "code_folding": [
     0
    ]
   },
   "outputs": [],
   "source": [
    "# 雙週平均\n",
    "\n",
    "def TEC_month_Inter_polate(startyear,endyear,startmonth,endmonth):\n",
    "    \n",
    "    TEC = pd.DataFrame()\n",
    "    \n",
    "    TECDay = pd.read_excel('D:\\Dataset\\Earthquake\\Original/TEC_Day_33.xlsx')\n",
    "    \n",
    "    for i in range(int(len(TECDay)/14)):\n",
    "            \n",
    "            TEC = pd.concat([TEC,pd.DataFrame(np.mean(TECDay.iloc[i*14:(i+1)*14,:])).T],ignore_index=True)\n",
    "    \n",
    "    TEC.columns = range(18)\n",
    "            \n",
    "    return TEC"
   ]
  },
  {
   "cell_type": "code",
   "execution_count": 53,
   "id": "bf5ef384",
   "metadata": {},
   "outputs": [],
   "source": [
    "datasetTW = TEC_month_Inter_polate(1999,2021,1,13)"
   ]
  },
  {
   "cell_type": "code",
   "execution_count": 64,
   "id": "8abdf5f9",
   "metadata": {
    "code_folding": [
     0
    ]
   },
   "outputs": [],
   "source": [
    "# 儲存雙週資料\n",
    "\n",
    "def Store_data():\n",
    "    \n",
    "    filePath = 'D:\\Dataset\\Earthquake\\Original/TEC_TwoWeek_33.xlsx'\n",
    "    datasetTW.to_excel(filePath,sheet_name='TEC',index=False)"
   ]
  },
  {
   "cell_type": "code",
   "execution_count": 65,
   "id": "4f01eda4",
   "metadata": {},
   "outputs": [],
   "source": [
    "Store_data()"
   ]
  },
  {
   "cell_type": "code",
   "execution_count": null,
   "id": "73771cf1",
   "metadata": {},
   "outputs": [],
   "source": []
  },
  {
   "cell_type": "code",
   "execution_count": 56,
   "id": "b1f0499b",
   "metadata": {
    "code_folding": [
     0
    ]
   },
   "outputs": [],
   "source": [
    "# 三週平均\n",
    "\n",
    "def TEC_month_Inter_polate(startyear,endyear,startmonth,endmonth):\n",
    "    \n",
    "    TEC = pd.DataFrame()\n",
    "    \n",
    "    TECDay = pd.read_excel('D:\\Dataset\\Earthquake\\Original/TEC_Day_33.xlsx')\n",
    "    \n",
    "    for i in range(int(len(TECDay)/21)):\n",
    "            \n",
    "            TEC = pd.concat([TEC,pd.DataFrame(np.mean(TECDay.iloc[i*21:(i+1)*21,:])).T],ignore_index=True)\n",
    "    \n",
    "    TEC.columns = range(18)\n",
    "            \n",
    "    return TEC"
   ]
  },
  {
   "cell_type": "code",
   "execution_count": 57,
   "id": "bf5ef384",
   "metadata": {},
   "outputs": [],
   "source": [
    "datasetTHW = TEC_month_Inter_polate(1999,2021,1,13)"
   ]
  },
  {
   "cell_type": "code",
   "execution_count": 66,
   "id": "8abdf5f9",
   "metadata": {
    "code_folding": [
     0
    ]
   },
   "outputs": [],
   "source": [
    "# 儲存三週資料\n",
    "\n",
    "def Store_data():\n",
    "    \n",
    "    filePath = 'D:\\Dataset\\Earthquake\\Original/TEC_ThreeWeek_33.xlsx'\n",
    "    datasetTHW.to_excel(filePath,sheet_name='TEC',index=False)"
   ]
  },
  {
   "cell_type": "code",
   "execution_count": 67,
   "id": "4f01eda4",
   "metadata": {},
   "outputs": [],
   "source": [
    "Store_data()"
   ]
  },
  {
   "cell_type": "code",
   "execution_count": null,
   "id": "f03cae6d",
   "metadata": {},
   "outputs": [],
   "source": []
  },
  {
   "cell_type": "code",
   "execution_count": 47,
   "id": "6e887a6f",
   "metadata": {
    "code_folding": [
     0
    ]
   },
   "outputs": [],
   "source": [
    "# 每月平均\n",
    "\n",
    "def TEC_month_Inter_polate(startyear,endyear,startmonth,endmonth):\n",
    "    \n",
    "    TEClist,TEC,TECmax = pd.DataFrame(),pd.DataFrame(),pd.DataFrame()\n",
    "    \n",
    "    TECDay = pd.read_excel('D:\\Dataset\\Earthquake\\Original/TEC_Day.xlsx').iloc[:,:]\n",
    "    \n",
    "    for i in range(int(len(TECDay)/28)):\n",
    "            \n",
    "            TEC = pd.concat([TEC,pd.DataFrame(np.mean(TECDay.iloc[i*28:(i+1)*28,0:25])).T],ignore_index=True)\n",
    "            TECmax = pd.concat([TECmax,pd.DataFrame(np.max(TECDay.iloc[i*28:(i+1)*28,25:])).T],ignore_index=True)\n",
    "    \n",
    "    TEClist = pd.concat([TEC,TECmax],axis=1)\n",
    "    \n",
    "    TEClist.columns = range(50)\n",
    "            \n",
    "    return TEClist"
   ]
  },
  {
   "cell_type": "code",
   "execution_count": 48,
   "id": "5d6698d5",
   "metadata": {},
   "outputs": [],
   "source": [
    "datasetM = TEC_month_Inter_polate(1999,2021,1,13)"
   ]
  },
  {
   "cell_type": "code",
   "execution_count": 60,
   "id": "eb2752e9",
   "metadata": {
    "code_folding": [
     0
    ]
   },
   "outputs": [],
   "source": [
    "# 儲存每月資料\n",
    "\n",
    "def Store_data():\n",
    "    \n",
    "    filePath = 'D:\\Dataset\\Earthquake\\Original/TEC_Month.xlsx'\n",
    "    datasetM.to_excel(filePath,sheet_name='TEC',index=False)"
   ]
  },
  {
   "cell_type": "code",
   "execution_count": 61,
   "id": "6a1041ba",
   "metadata": {},
   "outputs": [],
   "source": [
    "Store_data()"
   ]
  },
  {
   "cell_type": "code",
   "execution_count": 62,
   "id": "50e0bfc9",
   "metadata": {
    "code_folding": [
     0
    ]
   },
   "outputs": [],
   "source": [
    "# 拆分月\n",
    "\n",
    "def TECsplit_month():\n",
    "    \n",
    "    TEC55_1 = pd.read_excel('D:\\Dataset\\Earthquake\\Original/TEC_Month.xlsx')\n",
    "    TEC33_1 = pd.concat([TEC55_1.iloc[:,6:9],TEC55_1.iloc[:,11:14],TEC55_1.iloc[:,16:19],TEC55_1.iloc[:,31:34],TEC55_1.iloc[:,36:39],TEC55_1.iloc[:,41:44]],axis=1)\n",
    "    TEC11_1 = pd.concat([TEC55_1.iloc[:,12:13],TEC55_1.iloc[:,37:38]],axis=1)\n",
    "    \n",
    "    filePath = 'D:\\Dataset\\Earthquake\\Original/TEC_Month_55.xlsx'\n",
    "    TEC55_1.to_excel(filePath,sheet_name='TEC',index=False)\n",
    "    \n",
    "    filePath = 'D:\\Dataset\\Earthquake\\Original/TEC_Month_33.xlsx'\n",
    "    TEC33_1.to_excel(filePath,sheet_name='TEC',index=False)\n",
    "    \n",
    "    filePath = 'D:\\Dataset\\Earthquake\\Original/TEC_Month_11.xlsx'\n",
    "    TEC11_1.to_excel(filePath,sheet_name='TEC',index=False)"
   ]
  },
  {
   "cell_type": "code",
   "execution_count": 63,
   "id": "2d8112af",
   "metadata": {},
   "outputs": [],
   "source": [
    "TECsplit_month()"
   ]
  },
  {
   "cell_type": "code",
   "execution_count": null,
   "id": "7c91abb2",
   "metadata": {},
   "outputs": [],
   "source": []
  }
 ],
 "metadata": {
  "kernelspec": {
   "display_name": "Python 3 (ipykernel)",
   "language": "python",
   "name": "python3"
  },
  "language_info": {
   "codemirror_mode": {
    "name": "ipython",
    "version": 3
   },
   "file_extension": ".py",
   "mimetype": "text/x-python",
   "name": "python",
   "nbconvert_exporter": "python",
   "pygments_lexer": "ipython3",
   "version": "3.8.8"
  },
  "varInspector": {
   "cols": {
    "lenName": 16,
    "lenType": 16,
    "lenVar": 40
   },
   "kernels_config": {
    "python": {
     "delete_cmd_postfix": "",
     "delete_cmd_prefix": "del ",
     "library": "var_list.py",
     "varRefreshCmd": "print(var_dic_list())"
    },
    "r": {
     "delete_cmd_postfix": ") ",
     "delete_cmd_prefix": "rm(",
     "library": "var_list.r",
     "varRefreshCmd": "cat(var_dic_list()) "
    }
   },
   "oldHeight": 341.75378,
   "position": {
    "height": "363.969px",
    "left": "1973px",
    "right": "20px",
    "top": "143.984px",
    "width": "350px"
   },
   "types_to_exclude": [
    "module",
    "function",
    "builtin_function_or_method",
    "instance",
    "_Feature"
   ],
   "varInspector_section_display": "block",
   "window_display": true
  }
 },
 "nbformat": 4,
 "nbformat_minor": 5
}
